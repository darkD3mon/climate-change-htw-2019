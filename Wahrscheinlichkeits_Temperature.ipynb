{
 "cells": [
  {
   "cell_type": "markdown",
   "metadata": {},
   "source": [
    "## Import dependencies\n",
    "Execute ‘bash dep_install.bash‘ in terminal"
   ]
  },
  {
   "cell_type": "code",
   "execution_count": 15,
   "metadata": {},
   "outputs": [],
   "source": [
    "import pandas as pd\n",
    "import matplotlib as mp\n",
    "import numpy as np"
   ]
  },
  {
   "cell_type": "markdown",
   "metadata": {},
   "source": [
    "Load temperature data set (https://www.kaggle.com/berkeleyearth/climate-change-earth-surface-temperature-data)"
   ]
  },
  {
   "cell_type": "code",
   "execution_count": 16,
   "metadata": {},
   "outputs": [],
   "source": [
    "global_temperature_data = pd.read_csv(\"./data/climate-change-earth-surface-temperature-data/GlobalTemperatures.csv\")"
   ]
  },
  {
   "cell_type": "code",
   "execution_count": null,
   "metadata": {},
   "outputs": [],
   "source": [
    "global_temperature_data"
   ]
  },
  {
   "cell_type": "markdown",
   "metadata": {},
   "source": [
    "## Warhscheinlichkeitstheorie"
   ]
  },
  {
   "cell_type": "markdown",
   "metadata": {},
   "source": [
    "2. Ein Fahrkartenkontrolleur erkennt zu 90% einen Schwarzfahrer und irrt sich zu 5% bei einem regul¨aren Fahrgast. Der Anteil der Schwarzfahrer liegt bei 0.2%. Wie groß ist die Wahrscheinlichkeit, dass der Fahrgast eine Fahrkarte hat obwohl der Kontrolleur Ihn verd¨achtigt keinen Fahrschein zu haben?"
   ]
  },
  {
   "cell_type": "code",
   "execution_count": null,
   "metadata": {},
   "outputs": [],
   "source": [
    "# E = ('Schwarzfahrer erkannt')\n",
    "# I = ('Irren bei regulärem Fahrgast')\n",
    "# S = ('Anteil Schwarzfahrer')\n",
    "# P(E) = 0.9\n",
    "# P(E|I) = 0.05\n",
    "# P(S) = 0.2\n",
    "\n",
    "# 0.2----0.9\n",
    "#        0.1\n",
    "    \n",
    "# 0.8----0.05\n",
    "#        0.95\n",
    "\n",
    "# P(SN|E) = \n",
    "\n",
    "# E = 0.8 mal 0.05"
   ]
  },
  {
   "cell_type": "markdown",
   "metadata": {},
   "source": [
    "3. Freunde spielen jeden Mittwochabend Monopoly. Nach den Spielregeln wirft der Spieler zwei\n",
    "symmetrische Wurfel gleichzeitig. ¨\n",
    "Definiert seien die beiden Ereignisse A und B:\n",
    "A – beide Wurfel haben die gleiche Augenzahl (Pasch) ¨\n",
    "B – die Summe der Augenzahlen ist gerade."
   ]
  },
  {
   "cell_type": "markdown",
   "metadata": {},
   "source": [
    "(a) Bestimmen Sie die Wahrscheinlichkeiten P(A) und P(B)."
   ]
  },
  {
   "cell_type": "code",
   "execution_count": null,
   "metadata": {},
   "outputs": [],
   "source": [
    "# 1/6 mal 1/6\n",
    "# = 1/36 mal 6\n",
    "\n",
    "P(B)= 1/2"
   ]
  },
  {
   "cell_type": "markdown",
   "metadata": {},
   "source": [
    "(b) Wie groß ist die Wahrscheinlichkeit P(A|B)? (2)"
   ]
  },
  {
   "cell_type": "code",
   "execution_count": null,
   "metadata": {},
   "outputs": [],
   "source": [
    "# also pasch und dann auch noch gerade zahl\n",
    "# 1/6 mal 1, weil jedes Pasch eine gerade Zahl ist"
   ]
  },
  {
   "cell_type": "markdown",
   "metadata": {},
   "source": [
    "(c) Uberpr ¨ ufen Sie, ob ¨ A und B stochastisch unabh¨angig sind! (3)"
   ]
  },
  {
   "cell_type": "code",
   "execution_count": null,
   "metadata": {},
   "outputs": [],
   "source": []
  },
  {
   "cell_type": "markdown",
   "metadata": {},
   "source": [
    "(d) Sie mussen ins Gef ¨ ¨angnis, wenn Sie dreimal nacheinander im selben Zug einen Pasch (2)\n",
    "wurfeln. Wie groß ist die Wahrscheinlichkeit ins Gef ¨ ¨angnis zu gehen?"
   ]
  },
  {
   "cell_type": "code",
   "execution_count": null,
   "metadata": {},
   "outputs": [],
   "source": []
  },
  {
   "cell_type": "markdown",
   "metadata": {},
   "source": [
    "(e) Nennen Sie einen sinnvollen Sch¨atzer fur die Dichte! (2) ¨"
   ]
  },
  {
   "cell_type": "code",
   "execution_count": null,
   "metadata": {},
   "outputs": [],
   "source": []
  },
  {
   "cell_type": "markdown",
   "metadata": {},
   "source": [
    "(f) In der nachfolgenden Grafik sind drei Dichtefunktionen verschiedener Verteilungen gegeben. (3)\n",
    "Ordnen Sie die drei Dichtefunktionen je einer der nachfolgend genannten Verteilungen zu!\n",
    "( ) Standardnormalverteilung\n",
    "( ) Binomialverteilung mit n = 10 und p = 0.8\n",
    "( ) Student’sche t-Verteilung mit einem Freiheitsgrad (Cauchy-Verteilung)\n",
    "( ) Hypergeometrische Verteilung mit M = 5, N = 25 und n = 9\n",
    "( ) Poissonverteilung mit λ = 0.2\n",
    "( ) χ2-Verteilung mit 3 Freiheitsgraden\n",
    "( ) Normalverteilung mit µ = 2 und σ\n",
    "2 = 2\n",
    "( ) Exponentialverteilung mit λ = 2"
   ]
  },
  {
   "cell_type": "markdown",
   "metadata": {},
   "source": [
    "![title](grafik.png)"
   ]
  },
  {
   "cell_type": "code",
   "execution_count": null,
   "metadata": {},
   "outputs": [],
   "source": []
  }
 ],
 "metadata": {
  "kernelspec": {
   "display_name": "Python 3",
   "language": "python",
   "name": "python3"
  },
  "language_info": {
   "codemirror_mode": {
    "name": "ipython",
    "version": 3
   },
   "file_extension": ".py",
   "mimetype": "text/x-python",
   "name": "python",
   "nbconvert_exporter": "python",
   "pygments_lexer": "ipython3",
   "version": "3.7.5"
  }
 },
 "nbformat": 4,
 "nbformat_minor": 4
}
