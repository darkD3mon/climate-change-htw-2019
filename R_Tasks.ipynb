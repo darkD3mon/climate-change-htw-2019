{
 "cells": [
  {
   "cell_type": "code",
   "execution_count": 2,
   "metadata": {},
   "outputs": [],
   "source": [
    "import pandas as pd\n",
    "import matplotlib.pyplot as plt\n",
    "import numpy as np\n",
    "import scipy.stats as stats\n",
    "from collections import Counter"
   ]
  },
  {
   "cell_type": "markdown",
   "metadata": {},
   "source": [
    "5. In der forsa-Umfrage (forsa Gesellschaft für Sozialforschung und statistische Analyse mbH) wer- (6) den jede Woche zufa ̈llig ausgewählte deutsche Bürger befragt, was Sie wählen würden, wenn\n",
    "am na ̈chsten Sonntag Bundestagswahl wa ̈re. Am 30.10.2019 wurden 2501 Personen gefragt. Das Ergebnis der Umfrage ist in Sonntagsfrage.csv in der ersten Spalte gegeben. Nehmen Sie an,\n",
    "Sie hätten ebenfalls das Alter der Befragten zur Verfügung.\n",
    "    \n",
    "    (a)überprüfen Sie,ob das Wahlergebnis der CDU/CSU drei Wochen nach der Bundestagswahl 2013 signifikant von dem Wahlergebnis    abweicht (41.5%)!\n",
    "    \n",
    "    (b) Visualisieren Sie den Datensatz\n",
    "    \n",
    "    (c) Unterteilen Sie die Befragten in zwei Kategorien: CDU/CSU Wähler und restliche Wähler. Überprüfen Sie, ob sich das Alter der befragten Personen signifikant unterscheidet! Wa ̈hlen Sie einen geeignet test in R und interpretieren Sie das Ergebnis"
   ]
  },
  {
   "cell_type": "code",
   "execution_count": 3,
   "metadata": {},
   "outputs": [
    {
     "data": {
      "text/html": [
       "<div>\n",
       "<style scoped>\n",
       "    .dataframe tbody tr th:only-of-type {\n",
       "        vertical-align: middle;\n",
       "    }\n",
       "\n",
       "    .dataframe tbody tr th {\n",
       "        vertical-align: top;\n",
       "    }\n",
       "\n",
       "    .dataframe thead th {\n",
       "        text-align: right;\n",
       "    }\n",
       "</style>\n",
       "<table border=\"1\" class=\"dataframe\">\n",
       "  <thead>\n",
       "    <tr style=\"text-align: right;\">\n",
       "      <th></th>\n",
       "      <th>Person</th>\n",
       "      <th>Wahl</th>\n",
       "      <th>Alter</th>\n",
       "    </tr>\n",
       "  </thead>\n",
       "  <tbody>\n",
       "    <tr>\n",
       "      <th>0</th>\n",
       "      <td>1</td>\n",
       "      <td>CDU/CSU</td>\n",
       "      <td>47</td>\n",
       "    </tr>\n",
       "    <tr>\n",
       "      <th>1</th>\n",
       "      <td>2</td>\n",
       "      <td>CDU/CSU</td>\n",
       "      <td>57</td>\n",
       "    </tr>\n",
       "    <tr>\n",
       "      <th>2</th>\n",
       "      <td>3</td>\n",
       "      <td>SPD</td>\n",
       "      <td>48</td>\n",
       "    </tr>\n",
       "    <tr>\n",
       "      <th>3</th>\n",
       "      <td>4</td>\n",
       "      <td>AfD</td>\n",
       "      <td>32</td>\n",
       "    </tr>\n",
       "    <tr>\n",
       "      <th>4</th>\n",
       "      <td>5</td>\n",
       "      <td>CDU/CSU</td>\n",
       "      <td>58</td>\n",
       "    </tr>\n",
       "    <tr>\n",
       "      <th>...</th>\n",
       "      <td>...</td>\n",
       "      <td>...</td>\n",
       "      <td>...</td>\n",
       "    </tr>\n",
       "    <tr>\n",
       "      <th>2496</th>\n",
       "      <td>2497</td>\n",
       "      <td>CDU/CSU</td>\n",
       "      <td>57</td>\n",
       "    </tr>\n",
       "    <tr>\n",
       "      <th>2497</th>\n",
       "      <td>2498</td>\n",
       "      <td>CDU/CSU</td>\n",
       "      <td>66</td>\n",
       "    </tr>\n",
       "    <tr>\n",
       "      <th>2498</th>\n",
       "      <td>2499</td>\n",
       "      <td>CDU/CSU</td>\n",
       "      <td>60</td>\n",
       "    </tr>\n",
       "    <tr>\n",
       "      <th>2499</th>\n",
       "      <td>2500</td>\n",
       "      <td>GRUENE</td>\n",
       "      <td>48</td>\n",
       "    </tr>\n",
       "    <tr>\n",
       "      <th>2500</th>\n",
       "      <td>2501</td>\n",
       "      <td>CDU/CSU</td>\n",
       "      <td>63</td>\n",
       "    </tr>\n",
       "  </tbody>\n",
       "</table>\n",
       "<p>2501 rows × 3 columns</p>\n",
       "</div>"
      ],
      "text/plain": [
       "      Person     Wahl  Alter\n",
       "0          1  CDU/CSU     47\n",
       "1          2  CDU/CSU     57\n",
       "2          3      SPD     48\n",
       "3          4      AfD     32\n",
       "4          5  CDU/CSU     58\n",
       "...      ...      ...    ...\n",
       "2496    2497  CDU/CSU     57\n",
       "2497    2498  CDU/CSU     66\n",
       "2498    2499  CDU/CSU     60\n",
       "2499    2500   GRUENE     48\n",
       "2500    2501  CDU/CSU     63\n",
       "\n",
       "[2501 rows x 3 columns]"
      ]
     },
     "execution_count": 3,
     "metadata": {},
     "output_type": "execute_result"
    }
   ],
   "source": [
    "Sonntagsfrage = pd.read_csv(\"./data/Sonntagsfrage.csv\")\n",
    "Sonntagsfrage"
   ]
  },
  {
   "cell_type": "code",
   "execution_count": 8,
   "metadata": {},
   "outputs": [
    {
     "name": "stdout",
     "output_type": "stream",
     "text": [
      "CDU/CSU Prozent: 0.42103158736505397\n",
      "0.0033905815377313123\n"
     ]
    }
   ],
   "source": [
    "# a) Signifikanztest\n",
    "countObject = Counter(Sonntagsfrage[\"Wahl\"])\n",
    "percentageCDUCSU = countObject['CDU/CSU'] / Sonntagsfrage[\"Wahl\"].size\n",
    "print(\"CDU/CSU Prozent: \" + str(percentageCDUCSU))\n",
    "\n",
    "# Chi Squared\n",
    "\n",
    "#            Agegroup1     Other\n",
    "# Obs %         4.17%      95.83%\n",
    "# Exp %         3.1%       96.9%\n",
    "# Not actually chi-square: (.0417-.031)^2/0.031 + (.9583-.969)^2/0.969 = 0.00381\n",
    "chisquaredResult = (percentageCDUCSU-0.45)**2/0.45 + ((1 - percentageCDUCSU) - (1 - 0.45))**2/(1-0.45)\n",
    "print(chisquaredResult)\n",
    "\n",
    "# Source\n",
    "# https://stats.stackexchange.com/questions/104323/chi-square-analysis-percentages"
   ]
  },
  {
   "cell_type": "code",
   "execution_count": 27,
   "metadata": {},
   "outputs": [
    {
     "data": {
      "image/png": "[encoded data removed]",
      "text/plain": [
       "<Figure size 432x288 with 1 Axes>"
      ]
     },
     "metadata": {},
     "output_type": "display_data"
    },
    {
     "data": {
      "image/png": "[encoded data removed]",
      "text/plain": [
       "<Figure size 432x288 with 1 Axes>"
      ]
     },
     "metadata": {
      "needs_background": "light"
     },
     "output_type": "display_data"
    }
   ],
   "source": [
    "# b)\n",
    "# Data to plot\n",
    "labels = ['CDU/CSU', 'SPD' 'Linke', 'Gruene', 'Sonst', 'AfD', 'FDP', 'x']\n",
    "sizes = [countObject['CDU/CSU'], countObject['SPD'], countObject['LINKE'], countObject['GRUENE'], countObject['Sonst'], countObject['AfD'], countObject['FDP']]\n",
    "\n",
    "# Plot tv-like distribution of parties\n",
    "plt.pie(sizes, labels=labels,autopct='%1.1f%%', labeldistance=1.1)\n",
    "plt.show()\n",
    "\n",
    "# Histogram age\n",
    "plt.hist(Sonntagsfrage['Alter'])\n",
    "plt.show()"
   ]
  },
  {
   "cell_type": "code",
   "execution_count": 33,
   "metadata": {},
   "outputs": [
    {
     "data": {
      "text/plain": [
       "Power_divergenceResult(statistic=1.7852064699340695, pvalue=0.18151129939394536)"
      ]
     },
     "execution_count": 33,
     "metadata": {},
     "output_type": "execute_result"
    }
   ],
   "source": [
    "# select relevant data\n",
    "mask = (Sonntagsfrage['Wahl'] == 'CDU/CSU' )\n",
    "cdu_voters = Sonntagsfrage.loc[mask]\n",
    "mask = (Sonntagsfrage['Wahl'] != 'CDU/CSU' )\n",
    "other_voters = Sonntagsfrage.loc[mask]\n",
    "\n",
    "# Maybe this? https://www.isixsigma.com/tools-templates/hypothesis-testing/making-sense-two-sample-t-test/\n",
    "stats.chisquare([other_voters[\"Alter\"].mean(), cdu_voters[\"Alter\"].mean()])"
   ]
  },
  {
   "cell_type": "markdown",
   "metadata": {},
   "source": [
    "6. Importieren Sie den Datensatz von EuroStat: market size.csv. Der Datensatz erfasst die (6) Gesamtmenge der erzeugten Energie in GWh der 28 Mitgliedsstaaten der EU für 1999 - 2010. Untersuchen Sie, ob es zwischen der produzierten Strommenge 1999 und der produzierten Strom- menge in 2010 einen signifikanten Unterschied gibt! Visualisieren Sie die Daten der beiden Jahre\n",
    "und alle Jahre und fu ̈hren sie einen geeigneten Test durch! Interpretieren Sie das Ergebnis."
   ]
  },
  {
   "cell_type": "code",
   "execution_count": 29,
   "metadata": {},
   "outputs": [
    {
     "data": {
      "text/html": [
       "<div>\n",
       "<style scoped>\n",
       "    .dataframe tbody tr th:only-of-type {\n",
       "        vertical-align: middle;\n",
       "    }\n",
       "\n",
       "    .dataframe tbody tr th {\n",
       "        vertical-align: top;\n",
       "    }\n",
       "\n",
       "    .dataframe thead th {\n",
       "        text-align: right;\n",
       "    }\n",
       "</style>\n",
       "<table border=\"1\" class=\"dataframe\">\n",
       "  <thead>\n",
       "    <tr style=\"text-align: right;\">\n",
       "      <th></th>\n",
       "      <th>TIME</th>\n",
       "      <th>GEO</th>\n",
       "      <th>UNIT</th>\n",
       "      <th>PRODUCT</th>\n",
       "      <th>INDIC_NRG</th>\n",
       "      <th>Value</th>\n",
       "    </tr>\n",
       "  </thead>\n",
       "  <tbody>\n",
       "    <tr>\n",
       "      <th>0</th>\n",
       "      <td>1999</td>\n",
       "      <td>Belgien</td>\n",
       "      <td>Gigawattstunde</td>\n",
       "      <td>Elektrizität</td>\n",
       "      <td>Bruttoelektrizitätserzeugung insgesamt</td>\n",
       "      <td>84514</td>\n",
       "    </tr>\n",
       "    <tr>\n",
       "      <th>1</th>\n",
       "      <td>1999</td>\n",
       "      <td>Tschechische Republik</td>\n",
       "      <td>Gigawattstunde</td>\n",
       "      <td>Elektrizität</td>\n",
       "      <td>Bruttoelektrizitätserzeugung insgesamt</td>\n",
       "      <td>64694</td>\n",
       "    </tr>\n",
       "    <tr>\n",
       "      <th>2</th>\n",
       "      <td>1999</td>\n",
       "      <td>Dänemark</td>\n",
       "      <td>Gigawattstunde</td>\n",
       "      <td>Elektrizität</td>\n",
       "      <td>Bruttoelektrizitätserzeugung insgesamt</td>\n",
       "      <td>38921</td>\n",
       "    </tr>\n",
       "    <tr>\n",
       "      <th>3</th>\n",
       "      <td>1999</td>\n",
       "      <td>Deutschland (bis 1990 früheres Gebiet der BRD)</td>\n",
       "      <td>Gigawattstunde</td>\n",
       "      <td>Elektrizität</td>\n",
       "      <td>Bruttoelektrizitätserzeugung insgesamt</td>\n",
       "      <td>556300</td>\n",
       "    </tr>\n",
       "    <tr>\n",
       "      <th>4</th>\n",
       "      <td>1999</td>\n",
       "      <td>Estland</td>\n",
       "      <td>Gigawattstunde</td>\n",
       "      <td>Elektrizität</td>\n",
       "      <td>Bruttoelektrizitätserzeugung insgesamt</td>\n",
       "      <td>8281</td>\n",
       "    </tr>\n",
       "    <tr>\n",
       "      <th>...</th>\n",
       "      <td>...</td>\n",
       "      <td>...</td>\n",
       "      <td>...</td>\n",
       "      <td>...</td>\n",
       "      <td>...</td>\n",
       "      <td>...</td>\n",
       "    </tr>\n",
       "    <tr>\n",
       "      <th>331</th>\n",
       "      <td>2010</td>\n",
       "      <td>Finnland</td>\n",
       "      <td>Gigawattstunde</td>\n",
       "      <td>Elektrizität</td>\n",
       "      <td>Bruttoelektrizitätserzeugung insgesamt</td>\n",
       "      <td>80668</td>\n",
       "    </tr>\n",
       "    <tr>\n",
       "      <th>332</th>\n",
       "      <td>2010</td>\n",
       "      <td>Schweden</td>\n",
       "      <td>Gigawattstunde</td>\n",
       "      <td>Elektrizität</td>\n",
       "      <td>Bruttoelektrizitätserzeugung insgesamt</td>\n",
       "      <td>148609</td>\n",
       "    </tr>\n",
       "    <tr>\n",
       "      <th>333</th>\n",
       "      <td>2010</td>\n",
       "      <td>Vereinigtes Königreich</td>\n",
       "      <td>Gigawattstunde</td>\n",
       "      <td>Elektrizität</td>\n",
       "      <td>Bruttoelektrizitätserzeugung insgesamt</td>\n",
       "      <td>381771</td>\n",
       "    </tr>\n",
       "    <tr>\n",
       "      <th>334</th>\n",
       "      <td>2010</td>\n",
       "      <td>Norwegen</td>\n",
       "      <td>Gigawattstunde</td>\n",
       "      <td>Elektrizität</td>\n",
       "      <td>Bruttoelektrizitätserzeugung insgesamt</td>\n",
       "      <td>123640</td>\n",
       "    </tr>\n",
       "    <tr>\n",
       "      <th>335</th>\n",
       "      <td>2010</td>\n",
       "      <td>Türkei</td>\n",
       "      <td>Gigawattstunde</td>\n",
       "      <td>Elektrizität</td>\n",
       "      <td>Bruttoelektrizitätserzeugung insgesamt</td>\n",
       "      <td>211208</td>\n",
       "    </tr>\n",
       "  </tbody>\n",
       "</table>\n",
       "<p>336 rows × 6 columns</p>\n",
       "</div>"
      ],
      "text/plain": [
       "     TIME                                             GEO            UNIT  \\\n",
       "0    1999                                         Belgien  Gigawattstunde   \n",
       "1    1999                           Tschechische Republik  Gigawattstunde   \n",
       "2    1999                                        Dänemark  Gigawattstunde   \n",
       "3    1999  Deutschland (bis 1990 früheres Gebiet der BRD)  Gigawattstunde   \n",
       "4    1999                                         Estland  Gigawattstunde   \n",
       "..    ...                                             ...             ...   \n",
       "331  2010                                        Finnland  Gigawattstunde   \n",
       "332  2010                                        Schweden  Gigawattstunde   \n",
       "333  2010                          Vereinigtes Königreich  Gigawattstunde   \n",
       "334  2010                                        Norwegen  Gigawattstunde   \n",
       "335  2010                                          Türkei  Gigawattstunde   \n",
       "\n",
       "          PRODUCT                               INDIC_NRG   Value  \n",
       "0    Elektrizität  Bruttoelektrizitätserzeugung insgesamt   84514  \n",
       "1    Elektrizität  Bruttoelektrizitätserzeugung insgesamt   64694  \n",
       "2    Elektrizität  Bruttoelektrizitätserzeugung insgesamt   38921  \n",
       "3    Elektrizität  Bruttoelektrizitätserzeugung insgesamt  556300  \n",
       "4    Elektrizität  Bruttoelektrizitätserzeugung insgesamt    8281  \n",
       "..            ...                                     ...     ...  \n",
       "331  Elektrizität  Bruttoelektrizitätserzeugung insgesamt   80668  \n",
       "332  Elektrizität  Bruttoelektrizitätserzeugung insgesamt  148609  \n",
       "333  Elektrizität  Bruttoelektrizitätserzeugung insgesamt  381771  \n",
       "334  Elektrizität  Bruttoelektrizitätserzeugung insgesamt  123640  \n",
       "335  Elektrizität  Bruttoelektrizitätserzeugung insgesamt  211208  \n",
       "\n",
       "[336 rows x 6 columns]"
      ]
     },
     "execution_count": 29,
     "metadata": {},
     "output_type": "execute_result"
    }
   ],
   "source": [
    "market_size = pd.read_csv(\"./data/market_size.csv\", sep=',' , encoding='latin-1')\n",
    "market_size"
   ]
  },
  {
   "cell_type": "code",
   "execution_count": null,
   "metadata": {},
   "outputs": [],
   "source": []
  }
 ],
 "metadata": {
  "kernelspec": {
   "display_name": "Python 3",
   "language": "python",
   "name": "python3"
  },
  "language_info": {
   "codemirror_mode": {
    "name": "ipython",
    "version": 3
   },
   "file_extension": ".py",
   "mimetype": "text/x-python",
   "name": "python",
   "nbconvert_exporter": "python",
   "pygments_lexer": "ipython3",
   "version": "3.7.5"
  }
 },
 "nbformat": 4,
 "nbformat_minor": 4
}
