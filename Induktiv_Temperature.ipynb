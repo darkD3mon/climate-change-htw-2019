{
 "cells": [
  {
   "cell_type": "markdown",
   "metadata": {},
   "source": [
    "## Import dependencies\n",
    "Execute ‘bash dep_install.bash‘ in terminal"
   ]
  },
  {
   "cell_type": "code",
   "execution_count": 2,
   "metadata": {},
   "outputs": [],
   "source": [
    "import pandas as pd\n",
    "import matplotlib.pyplot as plt\n",
    "import numpy as np\n",
    "import scipy.stats as stats"
   ]
  },
  {
   "cell_type": "markdown",
   "metadata": {},
   "source": [
    "Load temperature data set (https://www.kaggle.com/berkeleyearth/climate-change-earth-surface-temperature-data)"
   ]
  },
  {
   "cell_type": "code",
   "execution_count": 3,
   "metadata": {},
   "outputs": [],
   "source": [
    "global_temperature_data = pd.read_csv(\"./data/climate-change-earth-surface-temperature-data/GlobalTemperatures.csv\")"
   ]
  },
  {
   "cell_type": "code",
   "execution_count": 4,
   "metadata": {},
   "outputs": [
    {
     "data": {
      "text/html": [
       "<div>\n",
       "<style scoped>\n",
       "    .dataframe tbody tr th:only-of-type {\n",
       "        vertical-align: middle;\n",
       "    }\n",
       "\n",
       "    .dataframe tbody tr th {\n",
       "        vertical-align: top;\n",
       "    }\n",
       "\n",
       "    .dataframe thead th {\n",
       "        text-align: right;\n",
       "    }\n",
       "</style>\n",
       "<table border=\"1\" class=\"dataframe\">\n",
       "  <thead>\n",
       "    <tr style=\"text-align: right;\">\n",
       "      <th></th>\n",
       "      <th>dt</th>\n",
       "      <th>LandAverageTemperature</th>\n",
       "      <th>LandAverageTemperatureUncertainty</th>\n",
       "      <th>LandMaxTemperature</th>\n",
       "      <th>LandMaxTemperatureUncertainty</th>\n",
       "      <th>LandMinTemperature</th>\n",
       "      <th>LandMinTemperatureUncertainty</th>\n",
       "      <th>LandAndOceanAverageTemperature</th>\n",
       "      <th>LandAndOceanAverageTemperatureUncertainty</th>\n",
       "    </tr>\n",
       "  </thead>\n",
       "  <tbody>\n",
       "    <tr>\n",
       "      <th>0</th>\n",
       "      <td>1750-01-01</td>\n",
       "      <td>3.034</td>\n",
       "      <td>3.574</td>\n",
       "      <td>NaN</td>\n",
       "      <td>NaN</td>\n",
       "      <td>NaN</td>\n",
       "      <td>NaN</td>\n",
       "      <td>NaN</td>\n",
       "      <td>NaN</td>\n",
       "    </tr>\n",
       "    <tr>\n",
       "      <th>1</th>\n",
       "      <td>1750-02-01</td>\n",
       "      <td>3.083</td>\n",
       "      <td>3.702</td>\n",
       "      <td>NaN</td>\n",
       "      <td>NaN</td>\n",
       "      <td>NaN</td>\n",
       "      <td>NaN</td>\n",
       "      <td>NaN</td>\n",
       "      <td>NaN</td>\n",
       "    </tr>\n",
       "    <tr>\n",
       "      <th>2</th>\n",
       "      <td>1750-03-01</td>\n",
       "      <td>5.626</td>\n",
       "      <td>3.076</td>\n",
       "      <td>NaN</td>\n",
       "      <td>NaN</td>\n",
       "      <td>NaN</td>\n",
       "      <td>NaN</td>\n",
       "      <td>NaN</td>\n",
       "      <td>NaN</td>\n",
       "    </tr>\n",
       "    <tr>\n",
       "      <th>3</th>\n",
       "      <td>1750-04-01</td>\n",
       "      <td>8.490</td>\n",
       "      <td>2.451</td>\n",
       "      <td>NaN</td>\n",
       "      <td>NaN</td>\n",
       "      <td>NaN</td>\n",
       "      <td>NaN</td>\n",
       "      <td>NaN</td>\n",
       "      <td>NaN</td>\n",
       "    </tr>\n",
       "    <tr>\n",
       "      <th>4</th>\n",
       "      <td>1750-05-01</td>\n",
       "      <td>11.573</td>\n",
       "      <td>2.072</td>\n",
       "      <td>NaN</td>\n",
       "      <td>NaN</td>\n",
       "      <td>NaN</td>\n",
       "      <td>NaN</td>\n",
       "      <td>NaN</td>\n",
       "      <td>NaN</td>\n",
       "    </tr>\n",
       "    <tr>\n",
       "      <th>...</th>\n",
       "      <td>...</td>\n",
       "      <td>...</td>\n",
       "      <td>...</td>\n",
       "      <td>...</td>\n",
       "      <td>...</td>\n",
       "      <td>...</td>\n",
       "      <td>...</td>\n",
       "      <td>...</td>\n",
       "      <td>...</td>\n",
       "    </tr>\n",
       "    <tr>\n",
       "      <th>3187</th>\n",
       "      <td>2015-08-01</td>\n",
       "      <td>14.755</td>\n",
       "      <td>0.072</td>\n",
       "      <td>20.699</td>\n",
       "      <td>0.110</td>\n",
       "      <td>9.005</td>\n",
       "      <td>0.170</td>\n",
       "      <td>17.589</td>\n",
       "      <td>0.057</td>\n",
       "    </tr>\n",
       "    <tr>\n",
       "      <th>3188</th>\n",
       "      <td>2015-09-01</td>\n",
       "      <td>12.999</td>\n",
       "      <td>0.079</td>\n",
       "      <td>18.845</td>\n",
       "      <td>0.088</td>\n",
       "      <td>7.199</td>\n",
       "      <td>0.229</td>\n",
       "      <td>17.049</td>\n",
       "      <td>0.058</td>\n",
       "    </tr>\n",
       "    <tr>\n",
       "      <th>3189</th>\n",
       "      <td>2015-10-01</td>\n",
       "      <td>10.801</td>\n",
       "      <td>0.102</td>\n",
       "      <td>16.450</td>\n",
       "      <td>0.059</td>\n",
       "      <td>5.232</td>\n",
       "      <td>0.115</td>\n",
       "      <td>16.290</td>\n",
       "      <td>0.062</td>\n",
       "    </tr>\n",
       "    <tr>\n",
       "      <th>3190</th>\n",
       "      <td>2015-11-01</td>\n",
       "      <td>7.433</td>\n",
       "      <td>0.119</td>\n",
       "      <td>12.892</td>\n",
       "      <td>0.093</td>\n",
       "      <td>2.157</td>\n",
       "      <td>0.106</td>\n",
       "      <td>15.252</td>\n",
       "      <td>0.063</td>\n",
       "    </tr>\n",
       "    <tr>\n",
       "      <th>3191</th>\n",
       "      <td>2015-12-01</td>\n",
       "      <td>5.518</td>\n",
       "      <td>0.100</td>\n",
       "      <td>10.725</td>\n",
       "      <td>0.154</td>\n",
       "      <td>0.287</td>\n",
       "      <td>0.099</td>\n",
       "      <td>14.774</td>\n",
       "      <td>0.062</td>\n",
       "    </tr>\n",
       "  </tbody>\n",
       "</table>\n",
       "<p>3192 rows × 9 columns</p>\n",
       "</div>"
      ],
      "text/plain": [
       "              dt  LandAverageTemperature  LandAverageTemperatureUncertainty  \\\n",
       "0     1750-01-01                   3.034                              3.574   \n",
       "1     1750-02-01                   3.083                              3.702   \n",
       "2     1750-03-01                   5.626                              3.076   \n",
       "3     1750-04-01                   8.490                              2.451   \n",
       "4     1750-05-01                  11.573                              2.072   \n",
       "...          ...                     ...                                ...   \n",
       "3187  2015-08-01                  14.755                              0.072   \n",
       "3188  2015-09-01                  12.999                              0.079   \n",
       "3189  2015-10-01                  10.801                              0.102   \n",
       "3190  2015-11-01                   7.433                              0.119   \n",
       "3191  2015-12-01                   5.518                              0.100   \n",
       "\n",
       "      LandMaxTemperature  LandMaxTemperatureUncertainty  LandMinTemperature  \\\n",
       "0                    NaN                            NaN                 NaN   \n",
       "1                    NaN                            NaN                 NaN   \n",
       "2                    NaN                            NaN                 NaN   \n",
       "3                    NaN                            NaN                 NaN   \n",
       "4                    NaN                            NaN                 NaN   \n",
       "...                  ...                            ...                 ...   \n",
       "3187              20.699                          0.110               9.005   \n",
       "3188              18.845                          0.088               7.199   \n",
       "3189              16.450                          0.059               5.232   \n",
       "3190              12.892                          0.093               2.157   \n",
       "3191              10.725                          0.154               0.287   \n",
       "\n",
       "      LandMinTemperatureUncertainty  LandAndOceanAverageTemperature  \\\n",
       "0                               NaN                             NaN   \n",
       "1                               NaN                             NaN   \n",
       "2                               NaN                             NaN   \n",
       "3                               NaN                             NaN   \n",
       "4                               NaN                             NaN   \n",
       "...                             ...                             ...   \n",
       "3187                          0.170                          17.589   \n",
       "3188                          0.229                          17.049   \n",
       "3189                          0.115                          16.290   \n",
       "3190                          0.106                          15.252   \n",
       "3191                          0.099                          14.774   \n",
       "\n",
       "      LandAndOceanAverageTemperatureUncertainty  \n",
       "0                                           NaN  \n",
       "1                                           NaN  \n",
       "2                                           NaN  \n",
       "3                                           NaN  \n",
       "4                                           NaN  \n",
       "...                                         ...  \n",
       "3187                                      0.057  \n",
       "3188                                      0.058  \n",
       "3189                                      0.062  \n",
       "3190                                      0.063  \n",
       "3191                                      0.062  \n",
       "\n",
       "[3192 rows x 9 columns]"
      ]
     },
     "execution_count": 4,
     "metadata": {},
     "output_type": "execute_result"
    }
   ],
   "source": [
    "global_temperature_data"
   ]
  },
  {
   "cell_type": "markdown",
   "metadata": {},
   "source": [
    "## Induktive Statistik"
   ]
  },
  {
   "cell_type": "markdown",
   "metadata": {},
   "source": [
    "4. a) 95% Konfidenzintervall (Was sind die Grenzen für die Temperatur) ... '95% der Temperaturen liefen in folgendem Intervall'"
   ]
  },
  {
   "cell_type": "code",
   "execution_count": 5,
   "metadata": {},
   "outputs": [
    {
     "name": "stdout",
     "output_type": "stream",
     "text": [
      "Number of empty values: 12\n",
      "Number of non-empty values: 3180\n",
      "8.374731132075471\n"
     ]
    },
    {
     "data": {
      "text/plain": [
       "[<matplotlib.lines.Line2D at 0x11d4cbd50>]"
      ]
     },
     "execution_count": 5,
     "metadata": {},
     "output_type": "execute_result"
    },
    {
     "data": {
      "image/png": "[encoded data removed]",
      "text/plain": [
       "<Figure size 432x288 with 1 Axes>"
      ]
     },
     "metadata": {
      "needs_background": "light"
     },
     "output_type": "display_data"
    }
   ],
   "source": [
    "# remove nan values\n",
    "print('Number of empty values: ' + str((np.isnan(global_temperature_data[\"LandAverageTemperature\"])).sum(0)))\n",
    "print('Number of non-empty values: ' + str((~np.isnan(global_temperature_data[\"LandAverageTemperature\"])).sum(0)))\n",
    "clean_data = [x for x in global_temperature_data[\"LandAverageTemperature\"] if ~np.isnan(x)]\n",
    "\n",
    "# sort data\n",
    "sorted_data = sorted(clean_data)\n",
    "\n",
    "# Mean and standard deviation\n",
    "mean = np.mean(sorted_data, dtype=np.float64)\n",
    "sd = np.std(sorted_data, dtype=np.float64)\n",
    "\n",
    "print(mean)\n",
    "\n",
    "# Probability density function\n",
    "pdf = stats.norm.pdf(sorted_data, mean, sd)\n",
    "\n",
    "# Plot distribution\n",
    "plt.plot(sorted_data, pdf)\n",
    "\n",
    "# Standardization\n",
    "standardized_data = (sorted_data - mean) / sd\n",
    "plt.plot(standardized_data, pdf)"
   ]
  },
  {
   "cell_type": "code",
   "execution_count": 6,
   "metadata": {},
   "outputs": [
    {
     "name": "stdout",
     "output_type": "stream",
     "text": [
      "8.22241862113991\n",
      "8.527043643011032\n"
     ]
    }
   ],
   "source": [
    "# 95% Konfidenzintervall\n",
    "# https://aegis4048.github.io/comprehensive_confidence_intervals_for_python_developers\n",
    "alpha = 0.05                             # significance level = 5%\n",
    "df = len(sorted_data) - 1                # degress of freedom\n",
    "t = stats.t.ppf(1 - alpha/2, df)         # t-critical value for 95% CI // two-sided test\n",
    "n = len(sorted_data)\n",
    "\n",
    "lower = mean - (t * sd / np.sqrt(n))\n",
    "upper = mean + (t * sd / np.sqrt(n))\n",
    "\n",
    "print(lower)\n",
    "print(upper)\n",
    "\n",
    "# Mean is not far apart as worlds temperature doesnt change a lot"
   ]
  },
  {
   "cell_type": "markdown",
   "metadata": {},
   "source": [
    "b) Wie groß muss der Stichprobenumfang mindestens sein, damit die Breite des 95% Konfidenzintervalls für die Temperatur höchstens 0.3 *C"
   ]
  },
  {
   "cell_type": "code",
   "execution_count": 7,
   "metadata": {},
   "outputs": [
    {
     "name": "stdout",
     "output_type": "stream",
     "text": [
      "3276.4304442830844 - Messpunkte werden benötigt\n"
     ]
    }
   ],
   "source": [
    "# Breite bspw. 0.3, da wir dies aus bspw. historischen gelernt haben. \n",
    "# Read z-score table at 0.9750 as we do have alpha = 0.05\n",
    "# 0,3 >= 2 * (sd)/sqrt(n) * z-score\n",
    "# sqrt(n) * 0,3 >= 2 * (sd) * z-score   || /0,3\n",
    "# sqrt(n) >= (2 * sd * z-score)/0,3     || square\n",
    "# n >= np.square((2 * sd * 1,96)/0.3)\n",
    "width = np.square((2 * sd * 1.96)/0.3)\n",
    "print(str(width) + \" - Messpunkte werden benötigt\")\n",
    "# Source\n",
    "# https://www.mathelounge.de/550413/wie-gross-muss-der-stichprobenumfang-mindestens-sein"
   ]
  },
  {
   "cell_type": "markdown",
   "metadata": {},
   "source": [
    "c) Wie groß muss das Konfidenzniveau 1 - alpha gewählt werden, damit die Breite des dazu gehörigen Konfidenzintervalls 8°C nicht übberschreitet? Wir gehen von 100 Messpunkten aus!. Begründen Sie in einem Satz, ob ein solches Signifikanzniveau als sinnvoll zu erachten ist!"
   ]
  },
  {
   "cell_type": "code",
   "execution_count": 23,
   "metadata": {},
   "outputs": [
    {
     "name": "stdout",
     "output_type": "stream",
     "text": [
      "0.2542\n"
     ]
    }
   ],
   "source": [
    "# Umformen nach 1-alpha (z-tabelle)\n",
    "# 1 >= 2 * (sd/sqrt(n))*z-score\n",
    "# 1 - 0.05/2 <= (np.sqrt(3180)/2*sd)\n",
    "# np.sqrt(3180)/2*sd)\n",
    "pre_zscore = np.sqrt(100)/(2*sd)\n",
    "# 1.1413907280422295\n",
    "zscore = 0.8729\n",
    "alpha_new = 2 * (1- zscore)\n",
    "print(alpha_new)\n",
    "# 0.2542\n",
    "# Bei α=0,25 würden wir einen Fehler erster Art bei einem aus vier Fällen tolerieren. \n",
    "# Dies ist sehr großzügig, wenn wir tatsächlich noch von Signifikanz sprechen wollen. \n",
    "# In einem aus vier Fällen würden wir die Nullhypothese zurückweisen, auch wenn sie in Wirklichkeit wahr ist. \n",
    "# Allerdings wäre die Wahrscheinlichkeit, einen Fehler zweiter Art zu begehen(die Nullhypothese wird beibehalten, \n",
    "# auch wenn in Wirklichkeit die Alternativhypothese gilt) wesentlich geringer. \n",
    "# Bei einem Signifikanzniveau von α=0,25 würden wir also eher die Nullhypothese zurückweisen, \n",
    "# sowohl wenn sie wahr ist, als auch wenn sie nicht wahr ist – daher sinkt die Wahrscheinlichkeit, einen Fehler 2. Art zu begehen."
   ]
  },
  {
   "cell_type": "markdown",
   "metadata": {},
   "source": [
    "Signifikanz Test (temperature overall 1750-01-01 - 2015-12-01)"
   ]
  },
  {
   "cell_type": "code",
   "execution_count": 9,
   "metadata": {},
   "outputs": [
    {
     "data": {
      "text/plain": [
       "Ttest_1sampResult(statistic=-1.9984532188428852, pvalue=0.045752569458540976)"
      ]
     },
     "execution_count": 9,
     "metadata": {},
     "output_type": "execute_result"
    }
   ],
   "source": [
    "# Null hypothesis — The mean overall temperature is 8.374731132075471\n",
    "# Alternative hypothesis — The mean overall temperature is greater than 8.374731132075471\n",
    "\n",
    "# What is the probability that we reach an average temperature of 8.5 (Mean= 8.374731132075471)\n",
    "stats.ttest_1samp(sorted_data, 8.5)\n",
    "\n",
    "# P-value of 10,9..% > significance level 5% = not statistically significant // 8.5 is not feaseable\n",
    "# At what temperature do we receive statistically significant p-value?\n",
    "stats.ttest_1samp(sorted_data, 8.53)\n",
    "\n",
    "# Sources\n",
    "# https://towardsdatascience.com/p-values-explained-by-data-scientist-f40a746cfc8\n",
    "# https://www.youtube.com/watch?v=dPXBN8ms-cU"
   ]
  },
  {
   "cell_type": "raw",
   "metadata": {},
   "source": [
    "Signifikanz Test (temperature industrialization 1760 to 1830)"
   ]
  },
  {
   "cell_type": "code",
   "execution_count": 15,
   "metadata": {},
   "outputs": [
    {
     "name": "stdout",
     "output_type": "stream",
     "text": [
      "Number of empty values: 0\n",
      "Number of non-empty values: 852\n",
      "Mean 8.090578638497652\n",
      "Standard deviation 4.534761257404447\n"
     ]
    },
    {
     "data": {
      "text/plain": [
       "Ttest_1sampResult(statistic=-2.633788218330889, pvalue=0.008597111535717546)"
      ]
     },
     "execution_count": 15,
     "metadata": {},
     "output_type": "execute_result"
    },
    {
     "data": {
      "image/png": "[encoded data removed]",
      "text/plain": [
       "<Figure size 432x288 with 1 Axes>"
      ]
     },
     "metadata": {
      "needs_background": "light"
     },
     "output_type": "display_data"
    }
   ],
   "source": [
    "# select relevant data\n",
    "global_temperature_data['dt'] = pd.to_datetime(global_temperature_data['dt'])\n",
    "mask = (global_temperature_data['dt'] >= '1760-01-01' ) & (global_temperature_data['dt'] < '1831-01-01')\n",
    "global_temperature_data_industrialization = global_temperature_data.loc[mask]\n",
    "\n",
    "# remove nan values\n",
    "print('Number of empty values: ' + str((np.isnan(global_temperature_data_industrialization[\"LandAverageTemperature\"])).sum(0)))\n",
    "print('Number of non-empty values: ' + str((~np.isnan(global_temperature_data_industrialization[\"LandAverageTemperature\"])).sum(0)))\n",
    "clean_data_industrialization = [x for x in global_temperature_data_industrialization[\"LandAverageTemperature\"] if ~np.isnan(x)]\n",
    "\n",
    "# sort data\n",
    "sorted_data_industrialization = sorted(clean_data_industrialization)\n",
    "\n",
    "# Mean and standard deviation\n",
    "mean_industrialization = np.mean(sorted_data_industrialization, dtype=np.float64)\n",
    "sd_industralization = np.std(sorted_data_industrialization, dtype=np.float64)\n",
    "print(\"Mean \" + str(mean_industrialization))\n",
    "print(\"Standard deviation \" + str(sd_industralization))\n",
    "\n",
    "# Probability density function\n",
    "pdf_industrialization = stats.norm.pdf(sorted_data_industrialization, mean_industrialization, sd_industralization)\n",
    "\n",
    "# Plot distribution\n",
    "plt.plot(sorted_data_industrialization, pdf_industrialization)\n",
    "\n",
    "# Standardization\n",
    "standardized_data_industrialization = (sorted_data_industrialization - mean_industrialization) / sd_industralization\n",
    "plt.plot(standardized_data_industrialization, pdf_industrialization)\n",
    "\n",
    "# Null hypothesis — The mean overall temperature is 8.0381183127572\n",
    "# Alternative hypothesis — The mean overall temperature is greater than 8.0381183127572\n",
    "\n",
    "# What is the probability that we reach an average temperature of 8.5 (Mean= 8.0381183127572)\n",
    "stats.ttest_1samp(sorted_data_industrialization, 8.5)"
   ]
  },
  {
   "cell_type": "markdown",
   "metadata": {},
   "source": [
    "Signifikanz Test (temperature modern age 1945 - 2015)"
   ]
  },
  {
   "cell_type": "code",
   "execution_count": 20,
   "metadata": {},
   "outputs": [
    {
     "name": "stdout",
     "output_type": "stream",
     "text": [
      "Number of empty values: 0\n",
      "Number of non-empty values: 852\n",
      "Mean 8.955720657276995\n",
      "Standard deviation 4.1647708039215905\n"
     ]
    },
    {
     "data": {
      "text/plain": [
       "Ttest_1sampResult(statistic=3.192069869795731, pvalue=0.00146442448654915)"
      ]
     },
     "execution_count": 20,
     "metadata": {},
     "output_type": "execute_result"
    },
    {
     "data": {
      "image/png": "[encoded data removed]",
      "text/plain": [
       "<Figure size 432x288 with 1 Axes>"
      ]
     },
     "metadata": {
      "needs_background": "light"
     },
     "output_type": "display_data"
    }
   ],
   "source": [
    "# select relevant data\n",
    "global_temperature_data['dt'] = pd.to_datetime(global_temperature_data['dt'])\n",
    "mask = (global_temperature_data['dt'] >= '1945-01-01' ) & (global_temperature_data['dt'] < '2015-12-30')\n",
    "global_temperature_data_modern = global_temperature_data.loc[mask]\n",
    "\n",
    "# remove nan values\n",
    "print('Number of empty values: ' + str((np.isnan(global_temperature_data_modern[\"LandAverageTemperature\"])).sum(0)))\n",
    "print('Number of non-empty values: ' + str((~np.isnan(global_temperature_data_modern[\"LandAverageTemperature\"])).sum(0)))\n",
    "clean_data_modern = [x for x in global_temperature_data_modern[\"LandAverageTemperature\"] if ~np.isnan(x)]\n",
    "\n",
    "# sort data\n",
    "sorted_data_modern = sorted(clean_data_modern)\n",
    "\n",
    "# Mean and standard deviation\n",
    "mean_modern = np.mean(sorted_data_modern, dtype=np.float64)\n",
    "sd_modern = np.std(sorted_data_modern, dtype=np.float64)\n",
    "print(\"Mean \" + str(mean_modern))\n",
    "print(\"Standard deviation \" + str(sd_modern))\n",
    "\n",
    "# Probability density function\n",
    "pdf_modern = stats.norm.pdf(sorted_data_modern, mean_modern, sd_modern)\n",
    "\n",
    "# Plot distribution\n",
    "plt.plot(sorted_data_modern, pdf_modern)\n",
    "\n",
    "# Standardization\n",
    "standardized_data_modern = (sorted_data_modern - mean_modern) / sd_modern\n",
    "plt.plot(standardized_data_modern, pdf_modern)\n",
    "\n",
    "# Null hypothesis — The mean overall temperature is 8.0381183127572\n",
    "# Alternative hypothesis — The mean overall temperature is greater than 8.0381183127572\n",
    "\n",
    "# What is the probability that we reach an average temperature of 8.5 (Mean= 8.0381183127572)\n",
    "stats.ttest_1samp(sorted_data_modern, 8.5)"
   ]
  },
  {
   "cell_type": "raw",
   "metadata": {},
   "source": [
    "Takeaways:\n"
   ]
  }
 ],
 "metadata": {
  "kernelspec": {
   "display_name": "Python 3",
   "language": "python",
   "name": "python3"
  },
  "language_info": {
   "codemirror_mode": {
    "name": "ipython",
    "version": 3
   },
   "file_extension": ".py",
   "mimetype": "text/x-python",
   "name": "python",
   "nbconvert_exporter": "python",
   "pygments_lexer": "ipython3",
   "version": "3.7.5"
  }
 },
 "nbformat": 4,
 "nbformat_minor": 4
}
